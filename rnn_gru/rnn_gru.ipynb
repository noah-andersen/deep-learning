{
  "cells": [
    {
      "cell_type": "markdown",
      "metadata": {
        "id": "oKUhB6TeB6lD"
      },
      "source": [
        "<a\n",
        "href=\"https://colab.research.google.com/github/wingated/cs474_labs_f2019/blob/master/DL_Lab6.ipynb\"\n",
        "  target=\"_parent\">\n",
        "  <img\n",
        "    src=\"https://colab.research.google.com/assets/colab-badge.svg\"\n",
        "    alt=\"Open In Colab\"/>\n",
        "</a>"
      ]
    },
    {
      "cell_type": "markdown",
      "metadata": {
        "id": "cksgAH12XRjV"
      },
      "source": [
        "# RNN & GRU"
      ]
    },
    {
      "cell_type": "code",
      "execution_count": 1,
      "metadata": {
        "colab": {
          "base_uri": "https://localhost:8080/"
        },
        "id": "l7bdZWxvJrsx",
        "outputId": "40d4184a-f1b5-4506-fad0-f75149c3a243"
      },
      "outputs": [
        {
          "name": "stdout",
          "output_type": "stream",
          "text": [
            "--2024-02-18 05:08:48--  https://piazza.com/redirect/s3?bucket=uploads&prefix=attach%2Fjlifkda6h0x5bk%2Fhzosotq4zil49m%2Fjn13x09arfeb%2Ftext_files.tar.gz\n",
            "Resolving piazza.com (piazza.com)... 3.215.61.73, 35.174.203.227, 23.22.156.213, ...\n",
            "Connecting to piazza.com (piazza.com)|3.215.61.73|:443... connected.\n",
            "HTTP request sent, awaiting response... 302 Found\n",
            "Location: https://cdn-uploads.piazza.com/attach/jlifkda6h0x5bk/hzosotq4zil49m/jn13x09arfeb/text_files.tar.gz [following]\n",
            "--2024-02-18 05:08:48--  https://cdn-uploads.piazza.com/attach/jlifkda6h0x5bk/hzosotq4zil49m/jn13x09arfeb/text_files.tar.gz\n",
            "Resolving cdn-uploads.piazza.com (cdn-uploads.piazza.com)... 13.249.141.91, 13.249.141.20, 13.249.141.26, ...\n",
            "Connecting to cdn-uploads.piazza.com (cdn-uploads.piazza.com)|13.249.141.91|:443... connected.\n",
            "HTTP request sent, awaiting response... 200 OK\n",
            "Length: 1533290 (1.5M) [application/x-gzip]\n",
            "Saving to: ‘./text_files.tar.gz’\n",
            "\n",
            "./text_files.tar.gz 100%[===================>]   1.46M  --.-KB/s    in 0.06s   \n",
            "\n",
            "2024-02-18 05:08:48 (24.8 MB/s) - ‘./text_files.tar.gz’ saved [1533290/1533290]\n",
            "\n",
            "Requirement already satisfied: unidecode in /usr/local/lib/python3.10/dist-packages (1.3.8)\n",
            "Requirement already satisfied: torch in /usr/local/lib/python3.10/dist-packages (2.1.0+cu121)\n",
            "Requirement already satisfied: filelock in /usr/local/lib/python3.10/dist-packages (from torch) (3.13.1)\n",
            "Requirement already satisfied: typing-extensions in /usr/local/lib/python3.10/dist-packages (from torch) (4.9.0)\n",
            "Requirement already satisfied: sympy in /usr/local/lib/python3.10/dist-packages (from torch) (1.12)\n",
            "Requirement already satisfied: networkx in /usr/local/lib/python3.10/dist-packages (from torch) (3.2.1)\n",
            "Requirement already satisfied: jinja2 in /usr/local/lib/python3.10/dist-packages (from torch) (3.1.3)\n",
            "Requirement already satisfied: fsspec in /usr/local/lib/python3.10/dist-packages (from torch) (2023.6.0)\n",
            "Requirement already satisfied: triton==2.1.0 in /usr/local/lib/python3.10/dist-packages (from torch) (2.1.0)\n",
            "Requirement already satisfied: MarkupSafe>=2.0 in /usr/local/lib/python3.10/dist-packages (from jinja2->torch) (2.1.5)\n",
            "Requirement already satisfied: mpmath>=0.19 in /usr/local/lib/python3.10/dist-packages (from sympy->torch) (1.3.0)\n",
            "Requirement already satisfied: colorama in /usr/local/lib/python3.10/dist-packages (0.4.6)\n",
            "file_len = 2579888\n"
          ]
        }
      ],
      "source": [
        "! wget -O ./text_files.tar.gz 'https://piazza.com/redirect/s3?bucket=uploads&prefix=attach%2Fjlifkda6h0x5bk%2Fhzosotq4zil49m%2Fjn13x09arfeb%2Ftext_files.tar.gz'\n",
        "! tar -xzf text_files.tar.gz\n",
        "! pip install unidecode\n",
        "! pip install torch\n",
        "! pip install colorama\n",
        "\n",
        "import unidecode\n",
        "import string\n",
        "import random\n",
        "\n",
        "all_characters = string.printable\n",
        "n_characters = len(all_characters)\n",
        "file = unidecode.unidecode(open('./text_files/lotr.txt').read())\n",
        "file_len = len(file)\n",
        "print('file_len =', file_len)"
      ]
    },
    {
      "cell_type": "code",
      "execution_count": 2,
      "metadata": {
        "colab": {
          "base_uri": "https://localhost:8080/"
        },
        "id": "TxBeKeNjJ0NQ",
        "outputId": "a73de358-f835-4ba5-9e8a-dbdb8a541e4c"
      },
      "outputs": [
        {
          "name": "stdout",
          "output_type": "stream",
          "text": [
            "ad? \n",
            "\n",
            "ft f \n",
            "\n",
            "'Now, Mr. Frodo,' said Sam, 'you shouldn't make fun. I was serious. ' \n",
            "\n",
            "'So was I,' said Frodo, 'and so I am. We're going on a bit too fast. \n",
            "\n",
            "You and I, Sam, are still stuck in the worst \n"
          ]
        }
      ],
      "source": [
        "chunk_len = 200\n",
        "\n",
        "def random_chunk():\n",
        "  start_index = random.randint(0, file_len - chunk_len)\n",
        "  end_index = start_index + chunk_len + 1\n",
        "  return file[start_index:end_index]\n",
        "\n",
        "print(random_chunk())"
      ]
    },
    {
      "cell_type": "code",
      "execution_count": 3,
      "metadata": {
        "colab": {
          "base_uri": "https://localhost:8080/"
        },
        "id": "On0_WitWJ99e",
        "outputId": "c008ed6b-c980-4661-ec0f-b4408cdc4de2"
      },
      "outputs": [
        {
          "name": "stdout",
          "output_type": "stream",
          "text": [
            "tensor([10, 11, 12, 39, 40, 41])\n"
          ]
        }
      ],
      "source": [
        "import torch\n",
        "# Turn string into list of longs\n",
        "def char_tensor(string):\n",
        "  tensor = torch.zeros(len(string)).long()\n",
        "  for c in range(len(string)):\n",
        "      tensor[c] = all_characters.index(string[c])\n",
        "  return tensor\n",
        "\n",
        "print(char_tensor('abcDEF'))"
      ]
    },
    {
      "cell_type": "code",
      "execution_count": 4,
      "metadata": {
        "colab": {
          "base_uri": "https://localhost:8080/"
        },
        "id": "MkBSfVkbGFyP",
        "outputId": "bedda4fb-388b-49bd-863e-8b26b37a2dde"
      },
      "outputs": [
        {
          "name": "stdout",
          "output_type": "stream",
          "text": [
            "Tesla T4\n"
          ]
        }
      ],
      "source": [
        "assert torch.cuda.is_available()\n",
        "print(torch.cuda.get_device_name(0))"
      ]
    },
    {
      "cell_type": "code",
      "execution_count": 6,
      "metadata": {
        "id": "TG-TUFu5mgw4"
      },
      "outputs": [],
      "source": [
        "import torch\n",
        "import torch.nn as nn\n",
        "from tqdm import tqdm\n",
        "from colorama import init, Fore\n",
        "\n",
        "class RNN(nn.Module):\n",
        "    def __init__(self, input_size, hidden_size, output_size, n_layers=1):\n",
        "        super(RNN, self).__init__()\n",
        "        self.input_size = input_size\n",
        "        self.hidden_size = hidden_size\n",
        "        self.output_size = output_size\n",
        "        self.n_layers = n_layers\n",
        "\n",
        "        self.gru = nn.GRU(input_size, hidden_size, n_layers)\n",
        "        self.out = nn.Linear(hidden_size, output_size)\n",
        "\n",
        "    def forward(self, input_seq, hidden):\n",
        "\n",
        "        output, hidden = self.gru(input_seq, hidden)\n",
        "        out_decoded = self.out(output)\n",
        "\n",
        "        return out_decoded, hidden\n",
        "\n",
        "    def init_hidden(self):\n",
        "        # Initialize hidden state with zeros\n",
        "        return torch.zeros(self.n_layers, 1, self.hidden_size)\n"
      ]
    },
    {
      "cell_type": "code",
      "execution_count": 7,
      "metadata": {
        "colab": {
          "base_uri": "https://localhost:8080/"
        },
        "id": "hrhXghEPKD-5",
        "outputId": "647937cf-eeb9-4fba-e672-82f3a8ca6064"
      },
      "outputs": [
        {
          "name": "stdout",
          "output_type": "stream",
          "text": [
            "tensor([18, 27, 94, 28, 24, 23, 94, 24, 15, 94, 39, 14, 23, 14, 29, 17, 24, 27,\n",
            "        94, 11, 14, 14, 23, 94, 16, 24, 23, 14, 94, 96, 28, 14, 14, 20, 18, 23,\n",
            "        16, 94, 10, 23, 94, 10, 23, 28, 32, 14, 27, 73, 94, 10, 23, 13, 94, 29,\n",
            "        17, 14, 94, 17, 24, 27, 28, 14, 94, 29, 17, 10, 29, 94, 32, 14, 94, 21,\n",
            "        14, 23, 29, 94, 17, 18, 22, 94, 12, 10, 22, 14, 94, 11, 10, 12, 20, 94,\n",
            "        27, 18, 13, 14, 27, 21, 14, 28, 28, 75, 94, 58, 17, 10, 29, 94, 96, 13,\n",
            "        24, 24, 22, 94, 13, 24, 94, 34, 24, 30, 94, 11, 27, 18, 23, 16, 94, 24,\n",
            "        30, 29, 94, 24, 15, 94, 29, 17, 14, 94, 49, 24, 27, 29, 17, 82, 68, 94,\n",
            "        96, 96, 68, 55, 17, 14, 94, 13, 24, 24, 22, 94, 24, 15, 94, 12, 17, 24,\n",
            "        18, 12, 14, 73, 68, 94, 28, 10, 18, 13, 94, 36, 27, 10, 16, 24, 27, 23,\n",
            "        75, 94, 68, 60, 24, 30, 94, 22, 10, 34, 94, 28, 10, 34, 94, 29, 17, 18,\n",
            "        28, 94])\n",
            "tensor([27, 94, 28, 24, 23, 94, 24, 15, 94, 39, 14, 23, 14, 29, 17, 24, 27, 94,\n",
            "        11, 14, 14, 23, 94, 16, 24, 23, 14, 94, 96, 28, 14, 14, 20, 18, 23, 16,\n",
            "        94, 10, 23, 94, 10, 23, 28, 32, 14, 27, 73, 94, 10, 23, 13, 94, 29, 17,\n",
            "        14, 94, 17, 24, 27, 28, 14, 94, 29, 17, 10, 29, 94, 32, 14, 94, 21, 14,\n",
            "        23, 29, 94, 17, 18, 22, 94, 12, 10, 22, 14, 94, 11, 10, 12, 20, 94, 27,\n",
            "        18, 13, 14, 27, 21, 14, 28, 28, 75, 94, 58, 17, 10, 29, 94, 96, 13, 24,\n",
            "        24, 22, 94, 13, 24, 94, 34, 24, 30, 94, 11, 27, 18, 23, 16, 94, 24, 30,\n",
            "        29, 94, 24, 15, 94, 29, 17, 14, 94, 49, 24, 27, 29, 17, 82, 68, 94, 96,\n",
            "        96, 68, 55, 17, 14, 94, 13, 24, 24, 22, 94, 24, 15, 94, 12, 17, 24, 18,\n",
            "        12, 14, 73, 68, 94, 28, 10, 18, 13, 94, 36, 27, 10, 16, 24, 27, 23, 75,\n",
            "        94, 68, 60, 24, 30, 94, 22, 10, 34, 94, 28, 10, 34, 94, 29, 17, 18, 28,\n",
            "        94, 29])\n"
          ]
        }
      ],
      "source": [
        "def random_training_set():\n",
        "  chunk = random_chunk()\n",
        "  inp = char_tensor(chunk[:-1]) # this takes every char except the last in the chunk\n",
        "  target = char_tensor(chunk[1:]) # this takes every char except the first in the chunk\n",
        "  return inp, target # comparing the indicies, target will be the inputs correct output\n",
        "inp, target = random_training_set()\n",
        "print(inp)\n",
        "print(target)"
      ]
    },
    {
      "cell_type": "code",
      "execution_count": 8,
      "metadata": {
        "id": "2ALC3Pf8Kbsi"
      },
      "outputs": [],
      "source": [
        "def train(inp, target):\n",
        "    \n",
        "    decoder_optimizer.zero_grad()\n",
        "    hidden = decoder.init_hidden()\n",
        "    loss = 0\n",
        "\n",
        "    #adding all of these to the gpu\n",
        "    inp = inp.cuda()\n",
        "    target = target.cuda()\n",
        "    hidden = hidden.cuda()\n",
        "\n",
        "    #encoding the input\n",
        "    inp_onehot = torch.nn.functional.one_hot(inp, num_classes=n_characters).float()\n",
        "    inp_onehot = inp_onehot.view(-1, 1, n_characters)\n",
        "\n",
        "    output, hidden = decoder(inp_onehot, hidden)\n",
        "\n",
        "    target = target.view(-1)\n",
        "\n",
        "    # loss\n",
        "    loss = criterion(output.view(-1, n_characters), target)\n",
        "\n",
        "    # backprop weights\n",
        "    loss.backward()\n",
        "    decoder_optimizer.step()\n",
        "\n",
        "    return loss.item() / len(inp)\n"
      ]
    },
    {
      "cell_type": "code",
      "execution_count": 9,
      "metadata": {
        "id": "B-bp-OZ1KjNh"
      },
      "outputs": [],
      "source": [
        "def sample_outputs(output, temperature):\n",
        "    \"\"\"Takes in a vector of unnormalized probability weights and samples a character from the distribution\"\"\"\n",
        "    # As temperature approaches 0, this sampling function becomes argmax (no randomness)\n",
        "    # As temperature approaches infinity, this sampling function becomes a purely random choice\n",
        "    return torch.multinomial(torch.exp(output / temperature), 1)\n",
        "\n",
        "def evaluate(prime_str='A', predict_len=100, temperature=0.8):\n",
        "    ## initialize hidden state, initialize other useful variables\n",
        "\n",
        "    hidden = decoder.init_hidden()\n",
        "    prime_input = char_tensor(prime_str)\n",
        "    pred_str = prime_str # predicted string that will be added onto\n",
        "\n",
        "    prime_input_onehot = torch.nn.functional.one_hot(prime_input, num_classes=n_characters).float()\n",
        "    prime_input_onehot = prime_input_onehot.view(-1, 1, n_characters)\n",
        "\n",
        "    output, hidden = decoder(prime_input_onehot.cuda(), hidden.cuda())\n",
        "\n",
        "    input = prime_input[-1].unsqueeze(0)\n",
        "    input = torch.nn.functional.one_hot(input, num_classes=n_characters).float()\n",
        "    input = input.view(-1, 1, n_characters)\n",
        "\n",
        "    for i in range(predict_len):\n",
        "\n",
        "        output, hidden = decoder(input.cuda(), hidden.cuda())\n",
        "\n",
        "        output = output.squeeze(1)\n",
        "\n",
        "        best = sample_outputs(output, temperature)\n",
        "        predicted_char = string.printable[best]\n",
        "        pred_str += predicted_char\n",
        "        input = char_tensor(predicted_char)\n",
        "        input = torch.nn.functional.one_hot(input, num_classes=n_characters).float()\n",
        "        input = input.view(-1, 1, n_characters)\n",
        "\n",
        "    return pred_str\n",
        "\n",
        "\n"
      ]
    },
    {
      "cell_type": "code",
      "execution_count": 10,
      "metadata": {
        "id": "-nXFeCmdKodw"
      },
      "outputs": [],
      "source": [
        "import time\n",
        "n_epochs = 5000\n",
        "print_every = 200\n",
        "plot_every = 10\n",
        "hidden_size = 200\n",
        "n_layers = 3\n",
        "lr = 0.001\n",
        "\n",
        "decoder = RNN(n_characters, hidden_size, n_characters, n_layers)\n",
        "decoder = decoder.cuda()\n",
        "decoder_optimizer = torch.optim.Adam(decoder.parameters(), lr=lr)\n",
        "criterion = nn.CrossEntropyLoss()\n",
        "\n",
        "all_losses = []\n",
        "loss_avg = 0"
      ]
    },
    {
      "cell_type": "code",
      "execution_count": 11,
      "metadata": {
        "colab": {
          "base_uri": "https://localhost:8080/"
        },
        "id": "xKfozqw-6eqb",
        "outputId": "edb27e37-96e5-4876-9032-6f84f701e25f"
      },
      "outputs": [
        {
          "name": "stdout",
          "output_type": "stream",
          "text": [
            "\n",
            "----------------------------------------------------------------------------------------------------\n",
            "Elapsed Time: 6.9s  Epoch: 200 Loss: 0.15471 Percent Complete: 4.0%\n",
            "\n",
            "Whe mag lts  tl  iawa a ahsvtn tee  \n",
            " in ea\n",
            "ti lei iist  oernl n tdia  oashrayw niga oooaohoia i m nd \n",
            "----------------------------------------------------------------------------------------------------\n",
            "\n",
            "\n",
            "----------------------------------------------------------------------------------------------------\n",
            "Elapsed Time: 13.2s  Epoch: 400 Loss: 0.12117 Percent Complete: 8.0%\n",
            "\n",
            "Wholgat ito to Bod lasdere is ersele sillerm nee the srnin the nan as sallat an wall op foud he beald \n",
            "----------------------------------------------------------------------------------------------------\n",
            "\n",
            "\n",
            "----------------------------------------------------------------------------------------------------\n",
            "Elapsed Time: 18.4s  Epoch: 600 Loss: 0.10838 Percent Complete: 12.0%\n",
            "\n",
            "Why, ibowe the gode thend rort my the ptome fofe houl greegor. He thattey \n",
            "\n",
            "\n",
            "\n",
            "They ciry \n",
            "\n",
            "mome co0e fa\n",
            "----------------------------------------------------------------------------------------------------\n",
            "\n",
            "\n",
            "----------------------------------------------------------------------------------------------------\n",
            "Elapsed Time: 21.7s  Epoch: 800 Loss: 0.10152 Percent Complete: 16.0%\n",
            "\n",
            "Whlaned of of tho whe stale sabpto he sowt in the mas. The \n",
            "sieds tade sand, rullpwes. \n",
            "\n",
            "'There balbri\n",
            "----------------------------------------------------------------------------------------------------\n",
            "\n",
            "\n",
            "----------------------------------------------------------------------------------------------------\n",
            "Elapsed Time: 24.9s  Epoch: 1000 Loss: 0.09671 Percent Complete: 20.0%\n",
            "\n",
            "Whear, Sas of they \n",
            "Dapeed bobrher goed \n",
            "dade not; and the sard a fare; and and manging neen when \n",
            "the\n",
            "----------------------------------------------------------------------------------------------------\n",
            "\n",
            "\n",
            "----------------------------------------------------------------------------------------------------\n",
            "Elapsed Time: 28.9s  Epoch: 1200 Loss: 0.09207 Percent Complete: 24.0%\n",
            "\n",
            "Whoutise dow, or these and the seen has ablunger the beet rilld for the of and highl afy said Pipe ber\n",
            "----------------------------------------------------------------------------------------------------\n",
            "\n",
            "\n",
            "----------------------------------------------------------------------------------------------------\n",
            "Elapsed Time: 32.2s  Epoch: 1400 Loss: 0.0857 Percent Complete: 28.000000000000004%\n",
            "\n",
            "Who came soad \n",
            "no chould on the Ramy dand that \n",
            "he Saver wach he care to har \n",
            "more to and yied beer th\n",
            "----------------------------------------------------------------------------------------------------\n",
            "\n",
            "\n",
            "----------------------------------------------------------------------------------------------------\n",
            "Elapsed Time: 35.5s  Epoch: 1600 Loss: 0.08843 Percent Complete: 32.0%\n",
            "\n",
            "Whers was was \n",
            "as a spant as they they pully \n",
            "eartout hele up his tam he said; they hoclow stadey a fe\n",
            "----------------------------------------------------------------------------------------------------\n",
            "\n",
            "\n",
            "----------------------------------------------------------------------------------------------------\n",
            "Elapsed Time: 38.7s  Epoch: 1800 Loss: 0.08373 Percent Complete: 36.0%\n",
            "\n",
            "Wher hacked by the swone manly darken \n",
            "the rose of the fare of it. \n",
            "\n",
            "'Nother I the isen he green of \n",
            "t\n",
            "----------------------------------------------------------------------------------------------------\n",
            "\n",
            "\n",
            "----------------------------------------------------------------------------------------------------\n",
            "Elapsed Time: 42.8s  Epoch: 2000 Loss: 0.08519 Percent Complete: 40.0%\n",
            "\n",
            "Whillowt. \n",
            "\n",
            "They had dought wold the koor in the flas, and he sleat to \n",
            "kind foot and meep of oury mun\n",
            "----------------------------------------------------------------------------------------------------\n",
            "\n",
            "\n",
            "----------------------------------------------------------------------------------------------------\n",
            "Elapsed Time: 46.1s  Epoch: 2200 Loss: 0.0846 Percent Complete: 44.0%\n",
            "\n",
            "Wh a sand of the putter. It the king of the \n",
            "Tat and do were would spaped withrumpole for they had wer\n",
            "----------------------------------------------------------------------------------------------------\n",
            "\n",
            "\n",
            "----------------------------------------------------------------------------------------------------\n",
            "Elapsed Time: 49.4s  Epoch: 2400 Loss: 0.08374 Percent Complete: 48.0%\n",
            "\n",
            "Whairle \n",
            "found them det the Comprador but was at himselt of the had were reconders their \n",
            "sirelard off\n",
            "----------------------------------------------------------------------------------------------------\n",
            "\n",
            "\n",
            "----------------------------------------------------------------------------------------------------\n",
            "Elapsed Time: 53.4s  Epoch: 2600 Loss: 0.08277 Percent Complete: 52.0%\n",
            "\n",
            "Whard tage of yearly? \n",
            "\n",
            "\n",
            "\n",
            "\n",
            "\n",
            "\n",
            "\n",
            "\n",
            "\n",
            "\n",
            "\n",
            "It Bres looked in the night gafn was the would Mower so see Frodo, n\n",
            "----------------------------------------------------------------------------------------------------\n",
            "\n",
            "\n",
            "----------------------------------------------------------------------------------------------------\n",
            "Elapsed Time: 56.7s  Epoch: 2800 Loss: 0.07653 Percent Complete: 56.00000000000001%\n",
            "\n",
            "Whair he \n",
            "liet of mordyre, wood you are we that the serwabe to more \n",
            "Ore to ene, as shence \n",
            "\n",
            "\n",
            "\n",
            "\n",
            "\n",
            "\n",
            "\n",
            "\n",
            "\n",
            "\n",
            "\n",
            "----------------------------------------------------------------------------------------------------\n",
            "\n",
            "\n",
            "----------------------------------------------------------------------------------------------------\n",
            "Elapsed Time: 60.0s  Epoch: 3000 Loss: 0.08118 Percent Complete: 60.0%\n",
            "\n",
            "Whaited, we well to their it and some of all from \n",
            "breaming. Fur of time to the ewer southour brown -u\n",
            "----------------------------------------------------------------------------------------------------\n",
            "\n",
            "\n",
            "----------------------------------------------------------------------------------------------------\n",
            "Elapsed Time: 63.3s  Epoch: 3200 Loss: 0.07692 Percent Complete: 64.0%\n",
            "\n",
            "Whaid the elf of \n",
            "Rirk. 'He was no \n",
            "now more were west was wactont, if you have \n",
            "forther would came yo\n",
            "----------------------------------------------------------------------------------------------------\n",
            "\n",
            "\n",
            "----------------------------------------------------------------------------------------------------\n",
            "Elapsed Time: 67.4s  Epoch: 3400 Loss: 0.0743 Percent Complete: 68.0%\n",
            "\n",
            "Whard he ran the sent and the orLend it. \n",
            "\n",
            "The Gandalf of foot dassed and a strong and \n",
            "sond of the Wi\n",
            "----------------------------------------------------------------------------------------------------\n",
            "\n",
            "\n",
            "----------------------------------------------------------------------------------------------------\n",
            "Elapsed Time: 70.7s  Epoch: 3600 Loss: 0.07272 Percent Complete: 72.0%\n",
            "\n",
            "Where being by any being and him \n",
            "of the \n",
            "sing and promes ball of the ground glanked full \n",
            "of Frodo. '\n",
            "----------------------------------------------------------------------------------------------------\n",
            "\n",
            "\n",
            "----------------------------------------------------------------------------------------------------\n",
            "Elapsed Time: 74.0s  Epoch: 3800 Loss: 0.07329 Percent Complete: 76.0%\n",
            "\n",
            "Whalong belong, \n",
            "and sgentlesself to be bate without he wills down, and he \n",
            "we are fallen clearly of t\n",
            "----------------------------------------------------------------------------------------------------\n",
            "\n",
            "\n",
            "----------------------------------------------------------------------------------------------------\n",
            "Elapsed Time: 78.1s  Epoch: 4000 Loss: 0.07395 Percent Complete: 80.0%\n",
            "\n",
            "Whellow, and they said \n",
            "left as a wind on make towermorworn. He stood mouster hisir seventice. \n",
            "\n",
            "'Wher\n",
            "----------------------------------------------------------------------------------------------------\n",
            "\n",
            "\n",
            "----------------------------------------------------------------------------------------------------\n",
            "Elapsed Time: 81.4s  Epoch: 4200 Loss: 0.0761 Percent Complete: 84.0%\n",
            "\n",
            "Whamls in in the trees. \n",
            "\n",
            "'When you have was were to matk of Andain. But \n",
            "if I feet must and so more b\n",
            "----------------------------------------------------------------------------------------------------\n",
            "\n",
            "\n",
            "----------------------------------------------------------------------------------------------------\n",
            "Elapsed Time: 85.1s  Epoch: 4400 Loss: 0.07722 Percent Complete: 88.0%\n",
            "\n",
            "Whake. The inside was hope, black. They east the pwond. He \n",
            "have there was dallen walled in the Great \n",
            "----------------------------------------------------------------------------------------------------\n",
            "\n",
            "\n",
            "----------------------------------------------------------------------------------------------------\n",
            "Elapsed Time: 88.7s  Epoch: 4600 Loss: 0.07292 Percent Complete: 92.0%\n",
            "\n",
            "Whake hears, and a culd \n",
            "up trought command on his merry fout of ask on either come, and one of end it\n",
            "----------------------------------------------------------------------------------------------------\n",
            "\n",
            "\n",
            "----------------------------------------------------------------------------------------------------\n",
            "Elapsed Time: 93.8s  Epoch: 4800 Loss: 0.06953 Percent Complete: 96.0%\n",
            "\n",
            "Wher rose and bolder when my \n",
            "sprang with holes and right moon among we folk night, a fell in the woun\n",
            "----------------------------------------------------------------------------------------------------\n",
            "\n",
            "\n",
            "----------------------------------------------------------------------------------------------------\n",
            "Elapsed Time: 97.1s  Epoch: 5000 Loss: 0.07204 Percent Complete: 100.0%\n",
            "\n",
            "Whe to gloom like ancies; but still not preckoned. Some \n",
            "waller horse the shadows of a far well. \n",
            "\"The\n",
            "----------------------------------------------------------------------------------------------------\n",
            "\n"
          ]
        }
      ],
      "source": [
        "# n_epochs = 2000\n",
        "start = time.time()\n",
        "\n",
        "for epoch in range(1, n_epochs + 1):\n",
        "  loss_ = train(*random_training_set())\n",
        "  loss_avg += loss_\n",
        "\n",
        "  if epoch % print_every == 0:\n",
        "      init()\n",
        "      print()\n",
        "      print('-'*100)\n",
        "      print(f'Elapsed Time: {round(time.time()-start,1)}s  Epoch: {epoch} Loss: {round(loss_avg, 5)} Percent Complete: {(epoch/n_epochs)*100}%\\n')\n",
        "      print(Fore.GREEN + evaluate('Wh', 100) + Fore.RESET)\n",
        "      print('-'*100)\n",
        "      print()\n",
        "\n",
        "  if epoch % plot_every == 0:\n",
        "      all_losses.append(loss_avg / plot_every)\n",
        "      loss_avg = 0\n"
      ]
    },
    {
      "cell_type": "code",
      "execution_count": 12,
      "metadata": {
        "colab": {
          "base_uri": "https://localhost:8080/",
          "height": 718
        },
        "id": "vnjK9uuyMcVl",
        "outputId": "5dfaf951-53b2-4186-dda7-8941483d98d4"
      },
      "outputs": [
        {
          "data": {
            "image/png": "[encoded data removed]",
            "text/plain": [
              "<Figure size 1600x800 with 1 Axes>"
            ]
          },
          "metadata": {},
          "output_type": "display_data"
        }
      ],
      "source": [
        "import matplotlib.pyplot as plt\n",
        "plt.figure(figsize=(16,8))\n",
        "plt.plot(range(len(all_losses)),all_losses, color='darkorange')\n",
        "plt.title('Avg Training Loss')\n",
        "plt.xlabel('Every 10 Random Samples')\n",
        "plt.ylabel('Loss')\n",
        "plt.grid()\n",
        "plt.show()"
      ]
    },
    {
      "cell_type": "code",
      "execution_count": 13,
      "metadata": {
        "colab": {
          "base_uri": "https://localhost:8080/"
        },
        "id": "Ee0so6aKJ5L8",
        "outputId": "35083025-0955-4f62-a30e-85fbd6c4c39c"
      },
      "outputs": [
        {
          "name": "stdout",
          "output_type": "stream",
          "text": [
            " wh\n",
            " whards,' said Sam. 'I \n",
            "will feet was to find for a glisk mure to terried, and small lay to \n",
            "make get their more wouldn't pans at the road, and go had brow where the in the \n",
            "mountage. I recames, low by w \n",
            "\n",
            " wh\n",
            " whar when the streps of \n",
            "the end-earth on the veating of the king of the old to tower \n",
            "laid and seet of the ran of stars of wall, and repilous to \n",
            "then such on the learnly was much of the there ond bear \n",
            "\n",
            " I \n",
            " I not back that, if the Noot on the spreading of Markne still, \n",
            "land set, and with way now the ssake. \n",
            "\n",
            "In the noon of prace obthing of the wood, winting with then evel \n",
            "had for a far fallen that waves  \n",
            "\n",
            " he\n",
            " hed and now to go for it. \n",
            "\n",
            "They dark their world back to the Gadded place; but on edge \n",
            "with Lord and long break waining seace the foot in the Tunning in still over eaght \n",
            "out on. Then walked to first  \n",
            "\n",
            " lo\n",
            " loked out of this marsion. It was as only \n",
            "coming us, it become his arm. Well stood not not peet, and he must it lated \n",
            "---went a going an isoutings wood. But Fangorn and not, so \n",
            "down the deal imllembe \n",
            "\n",
            " Th\n",
            " Thear that I am way at them. \n",
            "\n",
            "Frodo radded far amazey. 'I saw to propir? ' said Frodo. \n",
            "\n",
            "'But more no not turn! And we fell!' said Frodo; 'but \n",
            "they we are much the more fishing like out of \n",
            "livin. It  \n",
            "\n",
            " lo\n",
            " loked of any only to the strong.' \n",
            "\n",
            "'The wood with's O on the Mornor and couldly awair, Jomer was from the \n",
            "for any part of the shadows, set with your trider \n",
            "and to all any upon it and days of the cloa \n",
            "\n",
            " ra\n",
            " rad they were a little was \n",
            "an eres. Frodo said to earth. This land now steps and sleep and something of \n",
            "flowed their kneb of the morners away store to once another \n",
            "\n",
            "seet of the good, heart, nor a lie \n",
            "\n",
            " I \n",
            " I don't it not be. For water is a childers of \n",
            "flear and the waited to waves and going of Ore and could paster on the other \n",
            "his just. If the long vile of the fountain went of to the words like \n",
            "Gandalf \n",
            "\n",
            " I \n",
            " I seeming to all the rock. Smjam-stream but its alour and \n",
            "save his great light. It looked in a fir. In they went so find the \n",
            "uruved the Montant the Noot stone to wimble, and from the ways of the \n",
            "way. \n",
            "\n"
          ]
        }
      ],
      "source": [
        "for i in range(10):\n",
        "  start_strings = [\" Th\", \" wh\", \" he\", \" I \", \" ca\", \" G\", \" lo\", \" ra\"]\n",
        "  start = random.randint(0,len(start_strings)-1)\n",
        "  print(start_strings[start])\n",
        "  print(evaluate(start_strings[start], 200), '\\n')"
      ]
    },
    {
      "cell_type": "markdown",
      "metadata": {
        "id": "YJhgDc2IauPE"
      },
      "source": [
        "## Attempt to Create a Trump Tweet Generator\n"
      ]
    },
    {
      "cell_type": "code",
      "execution_count": 14,
      "metadata": {
        "colab": {
          "base_uri": "https://localhost:8080/"
        },
        "id": "fHb-F6V4etWr",
        "outputId": "65394416-6cd7-4284-ef8c-1899af50c94f"
      },
      "outputs": [
        {
          "name": "stdout",
          "output_type": "stream",
          "text": [
            "--2024-02-18 05:11:25--  https://raw.githubusercontent.com/mkearney/trumptweets/master/data/trumptweets-1515775693.tweets.csv\n",
            "Resolving raw.githubusercontent.com (raw.githubusercontent.com)... 185.199.109.133, 185.199.110.133, 185.199.108.133, ...\n",
            "Connecting to raw.githubusercontent.com (raw.githubusercontent.com)|185.199.109.133|:443... connected.\n",
            "HTTP request sent, awaiting response... 200 OK\n",
            "Length: 12913888 (12M) [text/plain]\n",
            "Saving to: ‘trumptweets-1515775693.tweets.csv.1’\n",
            "\n",
            "trumptweets-1515775 100%[===================>]  12.32M  --.-KB/s    in 0.1s    \n",
            "\n",
            "2024-02-18 05:11:26 (119 MB/s) - ‘trumptweets-1515775693.tweets.csv.1’ saved [12913888/12913888]\n",
            "\n"
          ]
        }
      ],
      "source": [
        "!wget https://raw.githubusercontent.com/mkearney/trumptweets/master/data/trumptweets-1515775693.tweets.csv"
      ]
    },
    {
      "cell_type": "code",
      "execution_count": 15,
      "metadata": {
        "colab": {
          "base_uri": "https://localhost:8080/"
        },
        "id": "BUssFBk5euUA",
        "outputId": "8a0171fd-193f-4d6e-ddab-731709a6931b"
      },
      "outputs": [
        {
          "name": "stderr",
          "output_type": "stream",
          "text": [
            "<ipython-input-15-41afbabee6d0>:2: DtypeWarning: Columns (15,30,31,32,36,37,38,42,43,44,45,46,47,50,51,52,56,57,58,59,60,61,62,63,64,65,66,67) have mixed types. Specify dtype option on import or set low_memory=False.\n",
            "  df = pd.read_csv('/content/trumptweets-1515775693.tweets.csv')\n"
          ]
        }
      ],
      "source": [
        "import pandas as pd\n",
        "df = pd.read_csv('/content/trumptweets-1515775693.tweets.csv')\n",
        "text = df[['text']]\n",
        "with open('trump_tweets.txt', 'w') as f:\n",
        "  for i in range(len(text)):\n",
        "    f.write(text.iloc[i,0] + '\\n')"
      ]
    },
    {
      "cell_type": "code",
      "execution_count": 16,
      "metadata": {
        "colab": {
          "base_uri": "https://localhost:8080/"
        },
        "id": "_sIBVkK_e0xK",
        "outputId": "b20b6ebe-6193-4878-a14e-442b400faec3"
      },
      "outputs": [
        {
          "name": "stdout",
          "output_type": "stream",
          "text": [
            "file_len = 3665026\n"
          ]
        }
      ],
      "source": [
        "all_characters = string.printable\n",
        "n_characters = len(all_characters)\n",
        "file = unidecode.unidecode(open('./trump_tweets.txt').read())\n",
        "file_len = len(file)\n",
        "print('file_len =', file_len)"
      ]
    },
    {
      "cell_type": "code",
      "execution_count": 17,
      "metadata": {
        "colab": {
          "base_uri": "https://localhost:8080/"
        },
        "id": "dYhQ_qGyigc8",
        "outputId": "6ef734cf-090c-456e-8983-9afca28fde91"
      },
      "outputs": [
        {
          "name": "stdout",
          "output_type": "stream",
          "text": [
            "uy  Great idea re minute of silence tonight--thank you.\n",
            "@NYClights420   I hope so!\n",
            "@RonCharles @VanityFair @KBAndersen  Which magazine went bust under Carter and as I predicted!\n",
            "@trondbertil Thank you.\n"
          ]
        }
      ],
      "source": [
        "chunk_len = 200\n",
        "\n",
        "def random_chunk():\n",
        "  start_index = random.randint(0, file_len - chunk_len)\n",
        "  end_index = start_index + chunk_len + 1\n",
        "  return file[start_index:end_index]\n",
        "\n",
        "print(random_chunk())"
      ]
    },
    {
      "cell_type": "code",
      "execution_count": 22,
      "metadata": {
        "id": "ZR1wtFGAho0T"
      },
      "outputs": [],
      "source": [
        "import time\n",
        "n_epochs = 6000\n",
        "print_every = 200\n",
        "plot_every = 10\n",
        "hidden_size = 200\n",
        "n_layers = 3\n",
        "lr = 0.001\n",
        "\n",
        "decoder = RNN(n_characters, hidden_size, n_characters, n_layers)\n",
        "decoder = decoder.cuda()\n",
        "decoder_optimizer = torch.optim.Adam(decoder.parameters(), lr=lr)\n",
        "criterion = nn.CrossEntropyLoss()\n",
        "\n",
        "all_losses = []\n",
        "loss_avg = 0"
      ]
    },
    {
      "cell_type": "code",
      "execution_count": 23,
      "metadata": {
        "colab": {
          "base_uri": "https://localhost:8080/"
        },
        "id": "YjlihK8yh5VP",
        "outputId": "adac059f-2b6d-4821-e07e-1399e4cac306"
      },
      "outputs": [
        {
          "name": "stdout",
          "output_type": "stream",
          "text": [
            "\n",
            "----------------------------------------------------------------------------------------------------\n",
            "Elapsed Time: 4.0s  Epoch: 200 Loss: 0.15238 Percent Complete: 3.3333333333333335%\n",
            "\n",
            "Why Belsher Wine miman, sisitem cAas\n",
            "bhollenl teen rerp w c r oma an kor Trous \n",
            "@Aayan pachac cowdedyn\n",
            "----------------------------------------------------------------------------------------------------\n",
            "\n",
            "\n",
            "----------------------------------------------------------------------------------------------------\n",
            "Elapsed Time: 7.3s  Epoch: 400 Loss: 0.13037 Percent Complete: 6.666666666666667%\n",
            "\n",
            "When Roniy #Shy cios won dadk beacingrlongewe the tomed efilg yo patf yocins un mat oun fe the raming \n",
            "----------------------------------------------------------------------------------------------------\n",
            "\n",
            "\n",
            "----------------------------------------------------------------------------------------------------\n",
            "Elapsed Time: 10.7s  Epoch: 600 Loss: 0.12055 Percent Complete: 10.0%\n",
            "\n",
            "Wh hand sed in Oreeiwer seat sowt tous cont?\n",
            "Saes nor dould peles they nide bit it dis @realDonald\" Ri\n",
            "----------------------------------------------------------------------------------------------------\n",
            "\n",
            "\n",
            "----------------------------------------------------------------------------------------------------\n",
            "Elapsed Time: 14.3s  Epoch: 800 Loss: 0.1188 Percent Complete: 13.333333333333334%\n",
            "\n",
            "Wholls bealls oucure of the if Nace!\n",
            "\"@8cekariess on Itrome, of a domerine Nears of is a  goul. the go\n",
            "----------------------------------------------------------------------------------------------------\n",
            "\n",
            "\n",
            "----------------------------------------------------------------------------------------------------\n",
            "Elapsed Time: 18.2s  Epoch: 1000 Loss: 0.11357 Percent Complete: 16.666666666666664%\n",
            "\n",
            "Whice a and bust, suppare is count the reaper up Apprings!  Think\n",
            "Reackarase crumphan way thatce tamer\n",
            "----------------------------------------------------------------------------------------------------\n",
            "\n",
            "\n",
            "----------------------------------------------------------------------------------------------------\n",
            "Elapsed Time: 21.6s  Epoch: 1200 Loss: 0.11129 Percent Complete: 20.0%\n",
            "\n",
            "Wh, Incs soul ameridan trucp of the show muss litaling a the pronnoner for toland sonat the many nion \n",
            "----------------------------------------------------------------------------------------------------\n",
            "\n",
            "\n",
            "----------------------------------------------------------------------------------------------------\n",
            "Elapsed Time: 24.9s  Epoch: 1400 Loss: 0.1037 Percent Complete: 23.333333333333332%\n",
            "\n",
            "Wh @realDonaldTrump Griens \n",
            "Thanks and she wit.  A wint and at the will cave the @#SANcAMRIKIJ Acher a\n",
            "----------------------------------------------------------------------------------------------------\n",
            "\n",
            "\n",
            "----------------------------------------------------------------------------------------------------\n",
            "Elapsed Time: 29.0s  Epoch: 1600 Loss: 0.1006 Percent Complete: 26.666666666666668%\n",
            "\n",
            "Whang in the Mecord Trump she dions in ole will @coxnesory\n",
            ". Trump is was conderter-\"! Trump of liend!\n",
            "----------------------------------------------------------------------------------------------------\n",
            "\n",
            "\n",
            "----------------------------------------------------------------------------------------------------\n",
            "Elapsed Time: 32.3s  Epoch: 1800 Loss: 0.09443 Percent Complete: 30.0%\n",
            "\n",
            "Whone ghe dook in thing on is on!\n",
            "Very of of @realDonaldTrump Obama Russ is lose to losting evention t\n",
            "----------------------------------------------------------------------------------------------------\n",
            "\n",
            "\n",
            "----------------------------------------------------------------------------------------------------\n",
            "Elapsed Time: 35.7s  Epoch: 2000 Loss: 0.09591 Percent Complete: 33.33333333333333%\n",
            "\n",
            "Whinate the deing and dises not is and time a U.N. .Honald Trump Set Medico money dold vote the real u\n",
            "----------------------------------------------------------------------------------------------------\n",
            "\n",
            "\n",
            "----------------------------------------------------------------------------------------------------\n",
            "Elapsed Time: 39.3s  Epoch: 2200 Loss: 0.09557 Percent Complete: 36.666666666666664%\n",
            "\n",
            "Whice decens! Wort. If loe real dired the goed and great lart to all on fire prongelle relesting in Tr\n",
            "----------------------------------------------------------------------------------------------------\n",
            "\n",
            "\n",
            "----------------------------------------------------------------------------------------------------\n",
            "Elapsed Time: 43.1s  Epoch: 2400 Loss: 0.0929 Percent Complete: 40.0%\n",
            "\n",
            "Why boece I ablie--shat and is againsts a roeder.\"\n",
            "\"@ronadi1927: @realDonaldTrump repute is that untar\n",
            "----------------------------------------------------------------------------------------------------\n",
            "\n",
            "\n",
            "----------------------------------------------------------------------------------------------------\n",
            "Elapsed Time: 46.5s  Epoch: 2600 Loss: 0.0995 Percent Complete: 43.333333333333336%\n",
            "\n",
            "Wh: Donald Trump TonCecraisiders over place. Good to but the Alagay, and gug the wemplets no that wing\n",
            "----------------------------------------------------------------------------------------------------\n",
            "\n",
            "\n",
            "----------------------------------------------------------------------------------------------------\n",
            "Elapsed Time: 49.8s  Epoch: 2800 Loss: 0.09612 Percent Complete: 46.666666666666664%\n",
            "\n",
            "Whing for, to getervications over the Crump.  Contrahing!\n",
            "Rosnians if is a for mast be vadely @Donaldi\n",
            "----------------------------------------------------------------------------------------------------\n",
            "\n",
            "\n",
            "----------------------------------------------------------------------------------------------------\n",
            "Elapsed Time: 54.0s  Epoch: 3000 Loss: 0.08893 Percent Complete: 50.0%\n",
            "\n",
            "Whance is masss bill to r. Jonne what a real enoure in yours our for the great the great.\n",
            "The boll the\n",
            "----------------------------------------------------------------------------------------------------\n",
            "\n",
            "\n",
            "----------------------------------------------------------------------------------------------------\n",
            "Elapsed Time: 57.3s  Epoch: 3200 Loss: 0.09607 Percent Complete: 53.333333333333336%\n",
            "\n",
            "Wh a bold could be terebill on the becued by tough milliautionality love on Trump Nouding day!\n",
            "\"@Burid\n",
            "----------------------------------------------------------------------------------------------------\n",
            "\n",
            "\n",
            "----------------------------------------------------------------------------------------------------\n",
            "Elapsed Time: 60.7s  Epoch: 3400 Loss: 0.09481 Percent Complete: 56.666666666666664%\n",
            "\n",
            "Wh @Dietranine will other who was your politically!!!! #Soupsive\n",
            "\"@willbarce: @realDonaldTrump All Tru\n",
            "----------------------------------------------------------------------------------------------------\n",
            "\n",
            "\n",
            "----------------------------------------------------------------------------------------------------\n",
            "Elapsed Time: 64.5s  Epoch: 3600 Loss: 0.08989 Percent Complete: 60.0%\n",
            "\n",
            "Whine really many presiden Dovee (that you!\n",
            "Boter right - spen you!\n",
            "\"@CLonat @realDonaldTrump Celebry \n",
            "----------------------------------------------------------------------------------------------------\n",
            "\n",
            "\n",
            "----------------------------------------------------------------------------------------------------\n",
            "Elapsed Time: 68.2s  Epoch: 3800 Loss: 0.09286 Percent Complete: 63.33333333333333%\n",
            "\n",
            "Whing: Ke devinisting gove the lister on the best to seam am to to you are the!\n",
            "\"@KaldolohnBeyt @realD\n",
            "----------------------------------------------------------------------------------------------------\n",
            "\n",
            "\n",
            "----------------------------------------------------------------------------------------------------\n",
            "Elapsed Time: 71.6s  Epoch: 4000 Loss: 0.09563 Percent Complete: 66.66666666666666%\n",
            "\n",
            "Wh Trump Standay evers and whe is one and this keeps!\n",
            "And speded in presidentionals interviewest the @\n",
            "----------------------------------------------------------------------------------------------------\n",
            "\n",
            "\n",
            "----------------------------------------------------------------------------------------------------\n",
            "Elapsed Time: 75.0s  Epoch: 4200 Loss: 0.09062 Percent Complete: 70.0%\n",
            "\n",
            "Wh @Vessporln Tnump http://t.co/BcD1H6VHN\"  Thank you!\n",
            ".@DonaldTrump like to SOTUUD MINY Apprentice Co\n",
            "----------------------------------------------------------------------------------------------------\n",
            "\n",
            "\n",
            "----------------------------------------------------------------------------------------------------\n",
            "Elapsed Time: 79.2s  Epoch: 4400 Loss: 0.0859 Percent Complete: 73.33333333333333%\n",
            "\n",
            "Whore faincy on @joxnamuth randfriends and a with big the Minity, Munnex is he the Mider and not contr\n",
            "----------------------------------------------------------------------------------------------------\n",
            "\n",
            "\n",
            "----------------------------------------------------------------------------------------------------\n",
            "Elapsed Time: 82.5s  Epoch: 4600 Loss: 0.0883 Percent Complete: 76.66666666666667%\n",
            "\n",
            "Whtupent very uprecialed is nemer what to be locely commectice, show with a baggers. I would that will\n",
            "----------------------------------------------------------------------------------------------------\n",
            "\n",
            "\n",
            "----------------------------------------------------------------------------------------------------\n",
            "Elapsed Time: 85.9s  Epoch: 4800 Loss: 0.08756 Percent Complete: 80.0%\n",
            "\n",
            "Whstonow #Bandalzonmond like have became good and truit for president intervies her you Obama delect\"\n",
            "\n",
            "----------------------------------------------------------------------------------------------------\n",
            "\n",
            "\n",
            "----------------------------------------------------------------------------------------------------\n",
            "Elapsed Time: 90.0s  Epoch: 5000 Loss: 0.09146 Percent Complete: 83.33333333333334%\n",
            "\n",
            "Whs Didass Plardeles in Att of the bigger against poll comment the rating warte, thanks. What a good's\n",
            "----------------------------------------------------------------------------------------------------\n",
            "\n",
            "\n",
            "----------------------------------------------------------------------------------------------------\n",
            "Elapsed Time: 93.5s  Epoch: 5200 Loss: 0.09475 Percent Complete: 86.66666666666667%\n",
            "\n",
            "Whtweine and day not.\n",
            "Watchess the if a have a tarties night all off gut if you want solding my will l\n",
            "----------------------------------------------------------------------------------------------------\n",
            "\n",
            "\n",
            "----------------------------------------------------------------------------------------------------\n",
            "Elapsed Time: 96.9s  Epoch: 5400 Loss: 0.08466 Percent Complete: 90.0%\n",
            "\n",
            "Whing we leable?\"  Thank you!\n",
            "https://t.co/4KNsWdZaa\n",
            "The USA stand' bling - Whark on Fake Geratoral ge\n",
            "----------------------------------------------------------------------------------------------------\n",
            "\n",
            "\n",
            "----------------------------------------------------------------------------------------------------\n",
            "Elapsed Time: 101.6s  Epoch: 5600 Loss: 0.08831 Percent Complete: 93.33333333333333%\n",
            "\n",
            "Whstervited Dem You President!\n",
            "\"@stadeewan: @realDonaldTrump President Donald Trump hope a story probl\n",
            "----------------------------------------------------------------------------------------------------\n",
            "\n",
            "\n",
            "----------------------------------------------------------------------------------------------------\n",
            "Elapsed Time: 106.0s  Epoch: 5800 Loss: 0.08205 Percent Complete: 96.66666666666667%\n",
            "\n",
            "Why @realDonaldTrump @TrumpNBP. #Inerabect #TrumpLettweesly Mara! #Ispeekthillary AT!\n",
            "\"@sactume: @real\n",
            "----------------------------------------------------------------------------------------------------\n",
            "\n",
            "\n",
            "----------------------------------------------------------------------------------------------------\n",
            "Elapsed Time: 109.4s  Epoch: 6000 Loss: 0.08293 Percent Complete: 100.0%\n",
            "\n",
            "Whones that yestriblic you day by Makeire for and discussibertation for and smart to see up.\n",
            "\"@froblan\n",
            "----------------------------------------------------------------------------------------------------\n",
            "\n"
          ]
        }
      ],
      "source": [
        "# n_epochs = 2000\n",
        "start = time.time()\n",
        "\n",
        "for epoch in range(1, n_epochs + 1):\n",
        "  loss_ = train(*random_training_set())\n",
        "  loss_avg += loss_\n",
        "\n",
        "  if epoch % print_every == 0:\n",
        "      print()\n",
        "      print('-'*100)\n",
        "      print(f'Elapsed Time: {round(time.time()-start,1)}s  Epoch: {epoch} Loss: {round(loss_avg, 5)} Percent Complete: {(epoch/n_epochs)*100}%\\n')\n",
        "      print(evaluate('Wh', 100))\n",
        "      print('-'*100)\n",
        "      print()\n",
        "\n",
        "  if epoch % plot_every == 0:\n",
        "      all_losses.append(loss_avg / plot_every)\n",
        "      loss_avg = 0"
      ]
    },
    {
      "cell_type": "code",
      "execution_count": 27,
      "metadata": {
        "colab": {
          "base_uri": "https://localhost:8080/",
          "height": 718
        },
        "id": "jhNBiiR6jeEM",
        "outputId": "cbeb24c9-c072-4c3b-b52b-1beb0d89a33c"
      },
      "outputs": [
        {
          "data": {
            "image/png": "[encoded data removed]",
            "text/plain": [
              "<Figure size 1600x800 with 1 Axes>"
            ]
          },
          "metadata": {},
          "output_type": "display_data"
        }
      ],
      "source": [
        "plt.figure(figsize=(16,8))\n",
        "plt.plot(range(len(all_losses)),all_losses, color='darkorange')\n",
        "plt.title('Avg Training Loss')\n",
        "plt.xlabel('Every 10 Random Samples')\n",
        "plt.ylabel('Loss')\n",
        "plt.grid()\n",
        "plt.show()"
      ]
    },
    {
      "cell_type": "code",
      "execution_count": 28,
      "metadata": {
        "colab": {
          "base_uri": "https://localhost:8080/"
        },
        "id": "yVtCc6bGiN0f",
        "outputId": "12722db7-1017-42ca-b3de-a8b090bb9ece"
      },
      "outputs": [
        {
          "name": "stdout",
          "output_type": "stream",
          "text": [
            "Ob\n",
            "Obulater: @realDonaldTrump is under creditelly they are beat and 50 believery, and the wroed to reluble! #Trump2016 by @doun2\n",
            "#Trump2016\"  (-- America just records that the luxurentice\n",
            "\"Tran for treat t \n",
            "\n",
            " lo\n",
            " loking to want to phowe for the Very has passion........\n",
            "https://t.co/3FxDVBkl3b\n",
            "\"@Clridatermish: @JerabHay @realDonaldTrump @AlexTurnenton has my the Mix Gaila is see \"is think they keep to...\n",
            "The fiil \n",
            "\n",
            " wa\n",
            " wat to returner to special and deal tranding payinal with my fatulation, it at 7 member bentation in windonal for the tard it. We let is what the people to least be a losesting oppout!\n",
            "States to the wan \n",
            "\n",
            "Ob\n",
            "Oby http://t.co/1FdvnhHyb\n",
            "\"@realDonaldTrump @ICeninCaller http://t.co/YPFV1hRFnv\n",
            "\"@hmyniprow: @realdonalry to see everyone and out others to cation! http://t.co/5FEWF56tnj\"\n",
            "\"@2015: @realDonaldTrump @stu \n",
            "\n",
            " he\n",
            " he has better cark in the Cortmand for us a medials. Theed.\n",
            "The watcher happered the hamps. He is lie the persuction the truth to chaim carter failings. True!\n",
            "\"@Righan_39 President and records the mastl \n",
            "\n",
            " Ch\n",
            " Chinawere and deing.\n",
            "Miss Obama's didn't make. My day, they mailing we arring for the Freedme But. Eneed to an exceterated..\"\n",
            "They are a territicion of his it is want to get true!\n",
            "\"@istanu: @realDonaldT \n",
            "\n",
            " he\n",
            " hep on oppince inturedals\n",
            "\"@realDonaldTrump @HattlanCair @realDonaldTrump this people big to be musting to see anyone deal.\n",
            "\"@trump20162: @realDonaldTrump by @COMadsner with yeation by @VaticaGreatAgain \n",
            "\n",
            " he\n",
            " hen twast political to be the her us a new true to awesome &amp; trim.... Do you all anyone be lation last. They did to forea. MAME AMERICA hamby or Americans. The Shisie Beat\n",
            "The working the Debate, lo \n",
            "\n",
            "Ob\n",
            "OberCorratraided http://t.co/jbjSjxW7  I watching taxesmance\" They will had be say because follower they are tration omen!\n",
            "Today time cried to record twighs in the at times unempless for the true to be  \n",
            "\n",
            " I \n",
            " I Fraved abturations\" --- wins been precision!\" - LAKE AMERICAN https://t.co/sknBSOKhvQ\n",
            "Reward than Obama, Conntice The New Yes, decision of the Deal raiding yet forday to and dever a pricago enicleact  \n",
            "\n"
          ]
        }
      ],
      "source": [
        "for i in range(10):\n",
        "  start_strings = [\"Ob\", \"Pr\", \" he\", \" I \", \" @\", \" wa\", \" lo\", \" Ch\"]\n",
        "  start = random.randint(0,len(start_strings)-1)\n",
        "  print(start_strings[start])\n",
        "#   all_characters.index(string[c])\n",
        "  print(evaluate(start_strings[start], 200), '\\n')"
      ]
    },
    {
      "cell_type": "code",
      "execution_count": null,
      "metadata": {
        "id": "zFfjNeuLrIsz"
      },
      "outputs": [],
      "source": []
    }
  ],
  "metadata": {
    "accelerator": "GPU",
    "colab": {
      "gpuType": "T4",
      "provenance": []
    },
    "kernelspec": {
      "display_name": "Python 3",
      "name": "python3"
    },
    "language_info": {
      "codemirror_mode": {
        "name": "ipython",
        "version": 3
      },
      "file_extension": ".py",
      "mimetype": "text/x-python",
      "name": "python",
      "nbconvert_exporter": "python",
      "pygments_lexer": "ipython3",
      "version": "3.7.1"
    },
    "pycharm": {
      "stem_cell": {
        "cell_type": "raw",
        "metadata": {
          "collapsed": false
        },
        "source": []
      }
    }
  },
  "nbformat": 4,
  "nbformat_minor": 0
}
